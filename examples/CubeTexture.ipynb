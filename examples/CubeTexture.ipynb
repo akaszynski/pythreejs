{
 "cells": [
  {
   "cell_type": "markdown",
   "id": "c0155451-f4b4-4169-9302-3ef4e63de7cb",
   "metadata": {},
   "source": [
    "### Cube Texture Example\n",
    "\n",
    "This example, inspired by https://threejs.org/examples/#webgl_lightprobe, shows how you can load a cube texture and use it within a scene as the background, as well as provide an environment map to meshes"
   ]
  },
  {
   "cell_type": "code",
   "execution_count": 21,
   "id": "d1fea45a-b8d9-4dff-9db6-a5146c755d2b",
   "metadata": {},
   "outputs": [],
   "source": [
    "import pythreejs"
   ]
  },
  {
   "cell_type": "markdown",
   "id": "cc69d17b-adc6-4a02-b961-5402ee417906",
   "metadata": {},
   "source": [
    "Create a Cube texture from three.js assets"
   ]
  },
  {
   "cell_type": "code",
   "execution_count": 22,
   "id": "6628545d-3359-4c56-8a81-d25cb61a1941",
   "metadata": {},
   "outputs": [],
   "source": [
    "images = [\n",
    "    'https://raw.githubusercontent.com/mrdoob/three.js/master/examples/textures/cube/pisa/px.png',\n",
    "    'https://raw.githubusercontent.com/mrdoob/three.js/master/examples/textures/cube/pisa/nx.png',\n",
    "    'https://raw.githubusercontent.com/mrdoob/three.js/master/examples/textures/cube/pisa/py.png',\n",
    "    'https://raw.githubusercontent.com/mrdoob/three.js/master/examples/textures/cube/pisa/ny.png',\n",
    "    'https://raw.githubusercontent.com/mrdoob/three.js/master/examples/textures/cube/pisa/pz.png',\n",
    "    'https://raw.githubusercontent.com/mrdoob/three.js/master/examples/textures/cube/pisa/nz.png',\n",
    "]\n",
    "cube_texture = pythreejs.CubeTexture(images)"
   ]
  },
  {
   "cell_type": "code",
   "execution_count": 23,
   "id": "aeed6bbc-e7e2-4c2a-84a3-81ba955a9f2d",
   "metadata": {},
   "outputs": [
    {
     "data": {
      "application/vnd.jupyter.widget-view+json": {
       "model_id": "66a71a9ec2b746b181eeae4ad2658a4a",
       "version_major": 2,
       "version_minor": 0
      },
      "text/plain": [
       "Preview(child=SphereBufferGeometry(heightSegments=32, radius=5.0, widthSegments=64), shadowMap=WebGLShadowMap(…"
      ]
     },
     "metadata": {},
     "output_type": "display_data"
    }
   ],
   "source": [
    "geometry = pythreejs.SphereBufferGeometry( 5, 64, 32 )\n",
    "geometry"
   ]
  },
  {
   "cell_type": "markdown",
   "id": "416d71b7-2374-4b9b-b5b8-dde1a527f23e",
   "metadata": {},
   "source": [
    "Specify an environment map for the sphere and create the sphere mesh.\n",
    "\n",
    "You can (barely) tell that the material has had some effect on the view of the sphere."
   ]
  },
  {
   "cell_type": "code",
   "execution_count": 24,
   "id": "87a3766b-2307-4bdd-abcd-147c6d6f40df",
   "metadata": {},
   "outputs": [
    {
     "data": {
      "application/vnd.jupyter.widget-view+json": {
       "model_id": "d2a13221868c41049396dd9c11a625e7",
       "version_major": 2,
       "version_minor": 0
      },
      "text/plain": [
       "Preview(child=Mesh(geometry=SphereBufferGeometry(heightSegments=32, radius=5.0, widthSegments=64), material=Me…"
      ]
     },
     "metadata": {},
     "output_type": "display_data"
    }
   ],
   "source": [
    "material = pythreejs.MeshStandardMaterial(\n",
    "    color=\"#ffffff\", \n",
    "    metalness=0,\n",
    "    roughness=0,\n",
    "    envMap=cube_texture,\n",
    "    envMapIntensity=1,\n",
    ")\n",
    "\n",
    "mesh = pythreejs.Mesh(\n",
    "    geometry=geometry,\n",
    "    material=material,\n",
    ")\n",
    "mesh"
   ]
  },
  {
   "cell_type": "markdown",
   "id": "d6add446-a510-44cf-99db-8cf01ff91068",
   "metadata": {},
   "source": [
    "## "
   ]
  },
  {
   "cell_type": "markdown",
   "id": "f0c47107-1618-4296-ad3e-ef4ad2120eed",
   "metadata": {},
   "source": [
    "### Render the Scene\n",
    "Finally, create the lighting, camera, controls, scene, and render it!"
   ]
  },
  {
   "cell_type": "code",
   "execution_count": 28,
   "id": "e5bfc3eb-2333-4c69-9a85-f1ce323f7c3a",
   "metadata": {},
   "outputs": [],
   "source": [
    "# create the camera\n",
    "camera = pythreejs.PerspectiveCamera(\n",
    "    fov=80,\n",
    "    aspect=1,\n",
    "    position = (-15, 0, 20)\n",
    ")\n",
    "\n",
    "# create ambient and directional lighting\n",
    "ambient_light = pythreejs.AmbientLight(color='#ffffff', intensity=0.25)\n",
    "\n",
    "directional_light = pythreejs.DirectionalLight(color='#ffffff', intensity=0.25)\n",
    "directional_light.position = (10, 10, 10)\n",
    "\n",
    "# create the scene\n",
    "scene = pythreejs.Scene(\n",
    "    children=[\n",
    "        mesh, \n",
    "        camera, \n",
    "        directional_light,\n",
    "        ambient_light,\n",
    "    ], \n",
    "    background=cube_texture\n",
    ")\n",
    "\n",
    "renderer = pythreejs.Renderer(\n",
    "    camera=camera, \n",
    "    scene=scene,\n",
    "    width=500,\n",
    "    height=500,\n",
    "    controls=[pythreejs.OrbitControls(controlling=camera)],\n",
    "    antialias=True,\n",
    ")\n",
    "\n",
    "display(renderer)"
   ]
  }
 ],
 "metadata": {
  "kernelspec": {
   "display_name": "Python 3 (ipykernel)",
   "language": "python",
   "name": "python3"
  },
  "language_info": {
   "codemirror_mode": {
    "name": "ipython",
    "version": 3
   },
   "file_extension": ".py",
   "mimetype": "text/x-python",
   "name": "python",
   "nbconvert_exporter": "python",
   "pygments_lexer": "ipython3",
   "version": "3.9.12"
  }
 },
 "nbformat": 4,
 "nbformat_minor": 5
}
